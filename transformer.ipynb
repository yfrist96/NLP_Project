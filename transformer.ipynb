{
  "nbformat": 4,
  "nbformat_minor": 0,
  "metadata": {
    "colab": {
      "provenance": [],
      "gpuType": "T4"
    },
    "kernelspec": {
      "name": "python3",
      "display_name": "Python 3"
    },
    "language_info": {
      "name": "python"
    },
    "accelerator": "GPU"
  },
  "cells": [
    {
      "cell_type": "markdown",
      "source": [
        "Imports"
      ],
      "metadata": {
        "id": "STo4r-eCKRJX"
      }
    },
    {
      "cell_type": "code",
      "execution_count": null,
      "metadata": {
        "id": "MW8VeHGwIeuZ"
      },
      "outputs": [],
      "source": [
        "import torch\n",
        "from torch.utils.data import DataLoader\n",
        "from torch.nn import CrossEntropyLoss\n",
        "from transformers import RobertaTokenizer, AutoModelForSequenceClassification, AdamW, get_scheduler\n",
        "from sklearn.metrics import accuracy_score\n",
        "from tqdm import tqdm\n",
        "import matplotlib.pyplot as plt"
      ]
    },
    {
      "cell_type": "code",
      "source": [
        "# Mount Google Drive\n",
        "from google.colab import drive\n",
        "drive.mount('/content/drive')\n",
        "\n",
        "import sys\n",
        "sys.path.append('/content/drive/My Drive/NLP_Project')\n",
        "\n",
        "%cd /content/drive/My Drive/NLP_Project\n",
        "\n",
        "import data_loader"
      ],
      "metadata": {
        "colab": {
          "base_uri": "https://localhost:8080/"
        },
        "id": "2Cy0cgHRLJpD",
        "outputId": "befa5203-964c-49ad-a2e4-f28bf894f8a6"
      },
      "execution_count": null,
      "outputs": [
        {
          "output_type": "stream",
          "name": "stdout",
          "text": [
            "Mounted at /content/drive\n",
            "/content/drive/My Drive/NLP_Ex4\n"
          ]
        }
      ]
    },
    {
      "cell_type": "markdown",
      "source": [],
      "metadata": {
        "id": "uYNHyW4Xtw8A"
      }
    },
    {
      "cell_type": "code",
      "source": [
        "from NLP_Project import *"
      ],
      "metadata": {
        "id": "XWAINpscYl4L"
      },
      "execution_count": null,
      "outputs": []
    },
    {
      "cell_type": "code",
      "source": [
        "SEQ_LEN = 52\n",
        "W2V_EMBEDDING_DIM = 300\n",
        "HIDDEN_DIM = 100\n",
        "NUM_LAYERS = 2\n",
        "\n",
        "ONEHOT_AVERAGE = \"onehot_average\"\n",
        "W2V_AVERAGE = \"w2v_average\"\n",
        "W2V_SEQUENCE = \"w2v_sequence\"\n",
        "RAW_TEXT = \"raw_text\"\n",
        "\n",
        "TRAIN = \"train\"\n",
        "VAL = \"val\"\n",
        "TEST = \"test\""
      ],
      "metadata": {
        "id": "Yemf5-veeYEb"
      },
      "execution_count": null,
      "outputs": []
    },
    {
      "cell_type": "code",
      "source": [
        "# Tokenizing data\n",
        "\n",
        "def tokenize_data(sentences, labels, tokenizer, max_length=128):\n",
        "    \"\"\"\n",
        "    Tokenizes the dataset using the provided tokenizer.\n",
        "    :param sentences: List of sentences to tokenize.\n",
        "    :param labels: Corresponding labels for the sentences.\n",
        "    :param tokenizer: Hugging Face tokenizer instance.\n",
        "    :param max_length: Maximum sequence length.\n",
        "    :return: Tokenized dataset as a PyTorch TensorDataset.\n",
        "    \"\"\"\n",
        "    encodings = tokenizer(sentences, truncation=True, padding=True, max_length=max_length, return_tensors=\"pt\")\n",
        "    encodings['labels'] = torch.tensor(labels)\n",
        "    return torch.utils.data.TensorDataset(encodings['input_ids'], encodings['attention_mask'], encodings['labels'])"
      ],
      "metadata": {
        "id": "xm72oysMfVeU"
      },
      "execution_count": null,
      "outputs": []
    },
    {
      "cell_type": "code",
      "source": [
        "def load_word2vec():\n",
        "    \"\"\" Load Word2Vec Vectors\n",
        "        Return:\n",
        "            wv_from_bin: All 3 million embeddings, each lengh 300\n",
        "    \"\"\"\n",
        "    import gensim.downloader as api\n",
        "    wv_from_bin = api.load(\"word2vec-google-news-300\")\n",
        "    vocab = list(wv_from_bin.key_to_index.keys())\n",
        "    print(wv_from_bin.key_to_index[vocab[0]])\n",
        "    print(\"Loaded vocab size %i\" % len(vocab))\n",
        "    return wv_from_bin\n",
        "\n",
        "\n",
        "def create_or_load_slim_w2v(words_list, cache_w2v=False):\n",
        "    \"\"\"\n",
        "    returns word2vec dict only for words which appear in the dataset.\n",
        "    :param words_list: list of words to use for the w2v dict\n",
        "    :param cache_w2v: whether to save locally the small w2v dictionary\n",
        "    :return: dictionary which maps the known words to their vectors\n",
        "    \"\"\"\n",
        "    w2v_path = \"w2v_dict.pkl\"\n",
        "    if not os.path.exists(w2v_path):\n",
        "        full_w2v = load_word2vec()\n",
        "        w2v_emb_dict = {k: full_w2v[k] for k in words_list if k in full_w2v}\n",
        "        if cache_w2v:\n",
        "            save_pickle(w2v_emb_dict, w2v_path)\n",
        "    else:\n",
        "        w2v_emb_dict = load_pickle(w2v_path)\n",
        "    return w2v_emb_dict\n",
        "\n",
        "\n",
        "def get_w2v_average(sent, word_to_vec, embedding_dim):\n",
        "    \"\"\"\n",
        "    This method gets a sentence and returns the average word embedding of the words consisting\n",
        "    the sentence.\n",
        "    :param sent: the sentence object\n",
        "    :param word_to_vec: a dictionary mapping words to their vector embeddings\n",
        "    :param embedding_dim: the dimension of the word embedding vectors\n",
        "    :return The average embedding vector as numpy ndarray.\n",
        "    \"\"\"\n",
        "    # Extract tokens from the Sentence object\n",
        "    tokens = sent.text  # 'text' is a list of tokens in the Sentence object\n",
        "\n",
        "    # Collect embeddings for tokens present in word_to_vec\n",
        "    embeddings = [word_to_vec[word] for word in tokens if word in word_to_vec]\n",
        "\n",
        "    # If no embeddings were found, return a zero vector\n",
        "    if not embeddings:\n",
        "        return np.zeros(embedding_dim, dtype=np.float32)\n",
        "\n",
        "    # Compute and return the average of the embeddings\n",
        "    return np.mean(embeddings, axis=0)\n",
        "\n",
        "\n",
        "def get_one_hot(size, ind):\n",
        "    \"\"\"\n",
        "    this method returns a one-hot vector of the given size, where the 1 is placed in the ind entry.\n",
        "    :param size: the size of the vector\n",
        "    :param ind: the entry index to turn to 1\n",
        "    :return: numpy ndarray which represents the one-hot vector\n",
        "    \"\"\"\n",
        "    one_hot = np.zeros(size, dtype=np.float32)\n",
        "    one_hot[ind] = 1.0\n",
        "    return one_hot\n",
        "\n",
        "\n",
        "def average_one_hots(sent, word_to_ind):\n",
        "    \"\"\"\n",
        "    this method gets a sentence, and a mapping between words to indices, and returns the average\n",
        "    one-hot embedding of the tokens in the sentence.\n",
        "    :param sent: a sentence object.\n",
        "    :param word_to_ind: a mapping between words to indices\n",
        "    :return:\n",
        "    \"\"\"\n",
        "    # Extract tokens directly from the Sentence object\n",
        "    tokens = sent.text  # 'text' is a list of tokens in the Sentence object\n",
        "\n",
        "    vocab_size = len(word_to_ind)\n",
        "    sentence_vectors = [\n",
        "        get_one_hot(vocab_size, word_to_ind[word])\n",
        "        for word in tokens if word in word_to_ind\n",
        "    ]\n",
        "\n",
        "    # Handle cases where no tokens in the sentence map to the vocabulary\n",
        "    if not sentence_vectors:\n",
        "        return np.zeros(vocab_size, dtype=np.float32)\n",
        "\n",
        "    # Return the average one-hot embedding\n",
        "    return np.mean(sentence_vectors, axis=0)\n",
        "\n",
        "\n",
        "def get_word_to_ind(words_list):\n",
        "    \"\"\"\n",
        "    this function gets a list of words, and returns a mapping between\n",
        "    words to their index.\n",
        "    :param words_list: a list of words\n",
        "    :return: the dictionary mapping words to the index\n",
        "    \"\"\"\n",
        "    return {word: idx for idx, word in enumerate(words_list)}\n",
        "\n",
        "\n",
        "def sentence_to_embedding(sent, word_to_vec, seq_len, embedding_dim=300):\n",
        "    \"\"\"\n",
        "    Converts a sentence to a fixed-length sequence of word embeddings.\n",
        "    \"\"\"\n",
        "    tokens = sent.text  # Extract tokens from the sentence object\n",
        "    embeddings = [\n",
        "        word_to_vec.get(token, np.zeros(embedding_dim, dtype=np.float32))\n",
        "        for token in tokens[:seq_len]\n",
        "    ]\n",
        "\n",
        "    # Add padding for sentences shorter than seq_len\n",
        "    if len(embeddings) < seq_len:\n",
        "        padding = [np.zeros(embedding_dim, dtype=np.float32)] * (seq_len - len(embeddings))\n",
        "        embeddings.extend(padding)\n",
        "\n",
        "    return np.array(embeddings, dtype=np.float32)\n",
        "\n",
        "\n",
        "class OnlineDataset(Dataset):\n",
        "    \"\"\"\n",
        "    A pytorch dataset which generates model inputs on the fly from sentences of SentimentTreeBank\n",
        "    \"\"\"\n",
        "\n",
        "    def __init__(self, sent_data, sent_func, sent_func_kwargs):\n",
        "        \"\"\"\n",
        "        :param sent_data: list of sentences from SentimentTreeBank\n",
        "        :param sent_func: Function which converts a sentence to an input datapoint\n",
        "        :param sent_func_kwargs: fixed keyword arguments for the state_func\n",
        "        \"\"\"\n",
        "        self.data = sent_data\n",
        "        self.sent_func = sent_func\n",
        "        self.sent_func_kwargs = sent_func_kwargs\n",
        "\n",
        "    def __len__(self):\n",
        "        return len(self.data)\n",
        "\n",
        "    def __getitem__(self, idx):\n",
        "        sent = self.data[idx]\n",
        "        sent_emb = self.sent_func(sent, **self.sent_func_kwargs)\n",
        "        sent_label = sent.sentiment_class\n",
        "        return sent_emb, sent_label\n",
        "\n",
        "\n",
        "class DataManager():\n",
        "    \"\"\"\n",
        "    Utility class for handling all data management task. Can be used to get iterators for training and\n",
        "    evaluation.\n",
        "    \"\"\"\n",
        "\n",
        "    def __init__(self, data_type=ONEHOT_AVERAGE, use_sub_phrases=True, dataset_path=\"/content/drive/My Drive/NLP_Project/stanfordSentimentTreebank\", batch_size=50,\n",
        "                 embedding_dim=None, tokinizer=None, max_seq_length=128,):\n",
        "        \"\"\"\n",
        "        builds the data manager used for training and evaluation.\n",
        "        :param data_type: one of ONEHOT_AVERAGE, W2V_AVERAGE and W2V_SEQUENCE\n",
        "        :param use_sub_phrases: if true, training data will include all sub-phrases plus the full sentences\n",
        "        :param dataset_path: path to the dataset directory\n",
        "        :param batch_size: number of examples per batch\n",
        "        :param embedding_dim: relevant only for the W2V data types.\n",
        "        \"\"\"\n",
        "\n",
        "        # load the dataset\n",
        "        self.sentiment_dataset = data_loader.SentimentTreeBank(dataset_path, split_words=True)\n",
        "        # map data splits to sentences lists\n",
        "        self.sentences = {}\n",
        "        if use_sub_phrases:\n",
        "            self.sentences[TRAIN] = self.sentiment_dataset.get_train_set_phrases()\n",
        "        else:\n",
        "            self.sentences[TRAIN] = self.sentiment_dataset.get_train_set()\n",
        "\n",
        "        self.sentences[VAL] = self.sentiment_dataset.get_validation_set()\n",
        "        self.sentences[TEST] = self.sentiment_dataset.get_test_set()\n",
        "\n",
        "        # map data splits to sentence input preperation functions\n",
        "        words_list = list(self.sentiment_dataset.get_word_counts().keys())\n",
        "        if data_type == ONEHOT_AVERAGE:\n",
        "            self.sent_func = average_one_hots\n",
        "            self.sent_func_kwargs = {\"word_to_ind\": get_word_to_ind(words_list)}\n",
        "        elif data_type == W2V_SEQUENCE:\n",
        "            self.sent_func = sentence_to_embedding\n",
        "\n",
        "            self.sent_func_kwargs = {\"seq_len\": SEQ_LEN,\n",
        "                                     \"word_to_vec\": create_or_load_slim_w2v(words_list),\n",
        "                                     \"embedding_dim\": embedding_dim\n",
        "                                     }\n",
        "        elif data_type == W2V_AVERAGE:\n",
        "            self.sent_func = get_w2v_average\n",
        "            words_list = list(self.sentiment_dataset.get_word_counts().keys())\n",
        "            self.sent_func_kwargs = {\"word_to_vec\": create_or_load_slim_w2v(words_list),\n",
        "                                     \"embedding_dim\": embedding_dim\n",
        "                                     }\n",
        "        #\n",
        "        elif data_type == \"RAW_TEXT\":\n",
        "            self.sent_func = lambda sent: \" \".join(sent.text)\n",
        "            self.sent_func_kwargs = {}\n",
        "        #\n",
        "        else:\n",
        "            raise ValueError(\"invalid data_type: {}\".format(data_type))\n",
        "        # map data splits to torch datasets and iterators\n",
        "        self.torch_datasets = {k: OnlineDataset(sentences, self.sent_func, self.sent_func_kwargs) for\n",
        "                               k, sentences in self.sentences.items()}\n",
        "        self.torch_iterators = {k: DataLoader(dataset, batch_size=batch_size, shuffle=k == TRAIN)\n",
        "                                for k, dataset in self.torch_datasets.items()}\n",
        "\n",
        "    def get_torch_iterator(self, data_subset=TRAIN):\n",
        "        \"\"\"\n",
        "        :param data_subset: one of TRAIN VAL and TEST\n",
        "        :return: torch batches iterator for this part of the datset\n",
        "        \"\"\"\n",
        "        return self.torch_iterators[data_subset]\n",
        "\n",
        "    def get_labels(self, data_subset=TRAIN):\n",
        "        \"\"\"\n",
        "        :param data_subset: one of TRAIN VAL and TEST\n",
        "        :return: numpy array with the labels of the requested part of the datset in the same order of the\n",
        "        examples.\n",
        "        \"\"\"\n",
        "        return np.array([sent.sentiment_class for sent in self.sentences[data_subset]])\n",
        "\n",
        "    def get_input_shape(self):\n",
        "        \"\"\"\n",
        "        :return: the shape of a single example from this dataset (only of x, ignoring y the label).\n",
        "        \"\"\"\n",
        "        return self.torch_datasets[TRAIN][0][0].shape"
      ],
      "metadata": {
        "id": "vmJi-9nUeGAB"
      },
      "execution_count": null,
      "outputs": []
    },
    {
      "cell_type": "code",
      "source": [
        "# Training function\n",
        "\n",
        "def train_transformer(model, train_loader, val_loader, lr, weight_decay, n_epochs, device):\n",
        "    \"\"\"\n",
        "    Train the transformer model.\n",
        "    \"\"\"\n",
        "    criterion = CrossEntropyLoss()\n",
        "    optimizer = AdamW(model.parameters(), lr=lr, weight_decay=weight_decay)\n",
        "    num_training_steps = len(train_loader) * n_epochs\n",
        "    lr_scheduler = get_scheduler(\"linear\", optimizer=optimizer, num_warmup_steps=0, num_training_steps=num_training_steps)\n",
        "\n",
        "    model.to(device)\n",
        "    train_loss_values, val_loss_values = [], []\n",
        "    train_accuracy_values, val_accuracy_values = [], []\n",
        "\n",
        "    for epoch in range(n_epochs):\n",
        "        model.train()\n",
        "        total_train_loss, correct_train_preds, total_train_examples = 0, 0, 0\n",
        "\n",
        "        for batch in tqdm.tqdm(train_loader, desc=f\"Epoch {epoch + 1}/{n_epochs} - Training\"):\n",
        "            input_ids, attention_mask, labels = [x.to(device) for x in batch]\n",
        "            labels = labels.long()\n",
        "            optimizer.zero_grad()\n",
        "\n",
        "            outputs = model(input_ids, attention_mask=attention_mask)\n",
        "            logits = outputs.logits\n",
        "            loss = criterion(logits, labels)\n",
        "            loss.backward()\n",
        "            optimizer.step()\n",
        "            lr_scheduler.step()\n",
        "\n",
        "            total_train_loss += loss.item()\n",
        "            preds = torch.argmax(logits, dim=1)\n",
        "            correct_train_preds += (preds == labels).sum().item()\n",
        "            total_train_examples += labels.size(0)\n",
        "\n",
        "        train_loss_values.append(total_train_loss / len(train_loader))\n",
        "        train_accuracy_values.append(correct_train_preds / total_train_examples)\n",
        "\n",
        "        model.eval()\n",
        "        total_val_loss, correct_val_preds, total_val_examples = 0, 0, 0\n",
        "\n",
        "        with torch.no_grad():\n",
        "            for batch in tqdm.tqdm(val_loader, desc=f\"Epoch {epoch + 1}/{n_epochs} - Validation\"):\n",
        "                input_ids, attention_mask, labels = [x.to(device) for x in batch]\n",
        "                labels = labels.long()\n",
        "                outputs = model(input_ids, attention_mask=attention_mask)\n",
        "                logits = outputs.logits\n",
        "                loss = criterion(logits, labels)\n",
        "\n",
        "                total_val_loss += loss.item()\n",
        "                preds = torch.argmax(logits, dim=1)\n",
        "                correct_val_preds += (preds == labels).sum().item()\n",
        "                total_val_examples += labels.size(0)\n",
        "\n",
        "        val_loss_values.append(total_val_loss / len(val_loader))\n",
        "        val_accuracy_values.append(correct_val_preds / total_val_examples)\n",
        "\n",
        "    return train_loss_values, val_loss_values, train_accuracy_values, val_accuracy_values"
      ],
      "metadata": {
        "id": "nbyN1LhMKji4"
      },
      "execution_count": null,
      "outputs": []
    },
    {
      "cell_type": "code",
      "source": [
        "# Evaluation function\n",
        "\n",
        "def evaluate(model, test_loader, device):\n",
        "    \"\"\"\n",
        "    Evaluate the model on a dataset.\n",
        "    \"\"\"\n",
        "    model.eval()\n",
        "    criterion = CrossEntropyLoss()\n",
        "    total_loss, correct_preds, total_examples = 0, 0, 0\n",
        "\n",
        "    with torch.no_grad():\n",
        "        for batch in tqdm.tqdm(test_loader, desc=\"Evaluating\"):\n",
        "            input_ids, attention_mask, labels = [x.to(device) for x in batch]\n",
        "            labels = labels.long()\n",
        "            outputs = model(input_ids, attention_mask=attention_mask)\n",
        "            logits = outputs.logits\n",
        "            loss = criterion(logits, labels)\n",
        "\n",
        "            total_loss += loss.item()\n",
        "            preds = torch.argmax(logits, dim=1)\n",
        "            correct_preds += (preds == labels).sum().item()\n",
        "            total_examples += labels.size(0)\n",
        "\n",
        "    accuracy = correct_preds / total_examples\n",
        "    return total_loss / len(test_loader), accuracy"
      ],
      "metadata": {
        "id": "mhN2AzZdKsR2"
      },
      "execution_count": null,
      "outputs": []
    },
    {
      "cell_type": "code",
      "source": [
        "# Plotting function\n",
        "\n",
        "def plot_metrics(train_metric, val_metric, metric_name, save_path):\n",
        "    \"\"\"\n",
        "    Plot and save training/validation metrics.\n",
        "    \"\"\"\n",
        "    plt.figure(figsize=(8, 5))\n",
        "    plt.plot(range(1, len(train_metric) + 1), train_metric, label=f\"Train {metric_name}\")\n",
        "    plt.plot(range(1, len(val_metric) + 1), val_metric, label=f\"Validation {metric_name}\")\n",
        "    plt.xlabel(\"Epoch\")\n",
        "    plt.ylabel(metric_name)\n",
        "    plt.title(f\"Train and Validation {metric_name}\")\n",
        "    plt.legend()\n",
        "    plt.grid()\n",
        "    plt.savefig(save_path)\n",
        "    plt.show()"
      ],
      "metadata": {
        "id": "LmAlCRW4K2U5"
      },
      "execution_count": null,
      "outputs": []
    },
    {
      "cell_type": "code",
      "source": [
        "def transformer_classification():\n",
        "    \"\"\"\n",
        "    Train and evaluate a transformer for sentiment analysis.\n",
        "    \"\"\"\n",
        "    # Load tokenizer and model\n",
        "    tokenizer = RobertaTokenizer.from_pretrained(\"distilroberta-base\")\n",
        "    model = AutoModelForSequenceClassification.from_pretrained(\"distilroberta-base\", num_labels=2)\n",
        "\n",
        "    # Data Preparation\n",
        "    data_manager = DataManager(\n",
        "        data_type=\"RAW_TEXT\", use_sub_phrases=True, dataset_path=\"stanfordSentimentTreebank\", batch_size=64\n",
        "    )\n",
        "\n",
        "    train_sentences = [\" \".join(sent.text) for sent in data_manager.sentences[TRAIN]]\n",
        "    val_sentences = [\" \".join(sent.text) for sent in data_manager.sentences[VAL]]\n",
        "    test_sentences = [\" \".join(sent.text) for sent in data_manager.sentences[TEST]]\n",
        "\n",
        "    train_labels = data_manager.get_labels(TRAIN).tolist()\n",
        "    val_labels = data_manager.get_labels(VAL).tolist()\n",
        "    test_labels = data_manager.get_labels(TEST).tolist()\n",
        "\n",
        "    train_data = tokenize_data(train_sentences, train_labels, tokenizer)\n",
        "    val_data = tokenize_data(val_sentences, val_labels, tokenizer)\n",
        "    test_data = tokenize_data(test_sentences, test_labels, tokenizer)\n",
        "\n",
        "    train_loader = DataLoader(train_data, batch_size=64, shuffle=True)\n",
        "    val_loader = DataLoader(val_data, batch_size=64)\n",
        "    test_loader = DataLoader(test_data, batch_size=64)\n",
        "\n",
        "    # Training\n",
        "    device = torch.device(\"cuda\" if torch.cuda.is_available() else \"cpu\")\n",
        "    train_loss, val_loss, train_acc, val_acc = train_transformer(\n",
        "        model, train_loader, val_loader, lr=1e-5, weight_decay=0, n_epochs=2, device=device\n",
        "    )\n",
        "\n",
        "    # Evaluation\n",
        "    test_loss, test_accuracy = evaluate(model, test_loader, device)\n",
        "\n",
        "    print(f\"Test Loss: {test_loss:.4f}\")\n",
        "    print(f\"Test Accuracy: {test_accuracy:.4f}\")\n",
        "\n",
        "    # Plot metrics\n",
        "    plot_metrics(train_loss, val_loss, \"Loss\", \"transformer_loss_plot.png\")\n",
        "    plot_metrics(train_acc, val_acc, \"Accuracy\", \"transformer_accuracy_plot.png\")\n",
        "\n",
        "    # Evaluate on special subsets\n",
        "    special_subsets = {\n",
        "    \"Negated Polarity\": data_loader.get_negated_polarity_examples(\n",
        "        data_manager.sentences[TEST]),\n",
        "    \"Rare Words\": data_loader.get_rare_words_examples(\n",
        "        data_manager.sentences[TEST],\n",
        "        data_manager.sentiment_dataset),\n",
        "    }\n",
        "    for subset_name, subset_indices in special_subsets.items():\n",
        "        subset_data = torch.utils.data.Subset(data_manager.torch_datasets[TEST], subset_indices)\n",
        "        subset_loader = DataLoader(subset_data, batch_size=64, shuffle=False)\n",
        "\n",
        "        model.eval()\n",
        "        correct_preds, total_examples = 0, 0\n",
        "\n",
        "        with torch.no_grad():\n",
        "            for batch in tqdm.tqdm(subset_loader, desc=\"Evaluating Subset\"):\n",
        "                # Unpack batch structure\n",
        "                sentences, labels = batch\n",
        "                # Tokenize sentences\n",
        "                encodings = tokenizer(list(sentences), truncation=True, padding=True, max_length=128,\n",
        "                                      return_tensors=\"pt\")\n",
        "                input_ids = encodings[\"input_ids\"].to(device)\n",
        "                attention_mask = encodings[\"attention_mask\"].to(device)\n",
        "                labels = labels.to(device).long()  # Convert labels to the correct device and data type\n",
        "\n",
        "                # Model predictions\n",
        "                outputs = model(input_ids, attention_mask=attention_mask)\n",
        "                logits = outputs.logits\n",
        "                preds = torch.argmax(logits, dim=1)\n",
        "\n",
        "                # Compute accuracy\n",
        "                correct_preds += (preds == labels).sum().item()\n",
        "                total_examples += labels.size(0)\n",
        "        accuracy_score = correct_preds / total_examples\n",
        "        print(f\"{subset_name} - Accuracy: {accuracy_score:.4f}\")\n"
      ],
      "metadata": {
        "id": "o-bitKXNPm22"
      },
      "execution_count": null,
      "outputs": []
    },
    {
      "cell_type": "code",
      "source": [
        "if __name__ == \"__main__\":\n",
        "    transformer_classification()"
      ],
      "metadata": {
        "id": "_dhrGewHK9V_",
        "colab": {
          "base_uri": "https://localhost:8080/",
          "height": 1000
        },
        "outputId": "56752308-9731-4a24-fb71-e215f923e634"
      },
      "execution_count": null,
      "outputs": [
        {
          "output_type": "stream",
          "name": "stderr",
          "text": [
            "Some weights of RobertaForSequenceClassification were not initialized from the model checkpoint at distilroberta-base and are newly initialized: ['classifier.dense.bias', 'classifier.dense.weight', 'classifier.out_proj.bias', 'classifier.out_proj.weight']\n",
            "You should probably TRAIN this model on a down-stream task to be able to use it for predictions and inference.\n",
            "/usr/local/lib/python3.11/dist-packages/transformers/optimization.py:591: FutureWarning: This implementation of AdamW is deprecated and will be removed in a future version. Use the PyTorch implementation torch.optim.AdamW instead, or set `no_deprecation_warning=True` to disable this warning\n",
            "  warnings.warn(\n",
            "Epoch 1/2 - Training: 100%|██████████| 1150/1150 [06:18<00:00,  3.04it/s]\n",
            "Epoch 1/2 - Validation: 100%|██████████| 16/16 [00:01<00:00, 11.07it/s]\n",
            "Epoch 2/2 - Training: 100%|██████████| 1150/1150 [06:17<00:00,  3.05it/s]\n",
            "Epoch 2/2 - Validation: 100%|██████████| 16/16 [00:01<00:00, 11.07it/s]\n",
            "Evaluating: 100%|██████████| 16/16 [00:01<00:00, 10.52it/s]\n"
          ]
        },
        {
          "output_type": "stream",
          "name": "stdout",
          "text": [
            "Test Loss: 0.1905\n",
            "Test Accuracy: 0.9085\n"
          ]
        },
        {
          "output_type": "display_data",
          "data": {
            "text/plain": [
              "<Figure size 800x500 with 1 Axes>"
            ],
            "image/png": "[encoded data removed]"
          },
          "metadata": {}
        },
        {
          "output_type": "display_data",
          "data": {
            "text/plain": [
              "<Figure size 800x500 with 1 Axes>"
            ],
            "image/png": "[encoded data removed]"
          },
          "metadata": {}
        },
        {
          "output_type": "stream",
          "name": "stderr",
          "text": [
            "Evaluating Subset: 100%|██████████| 1/1 [00:00<00:00, 13.09it/s]\n"
          ]
        },
        {
          "output_type": "stream",
          "name": "stdout",
          "text": [
            "Negated Polarity - Accuracy: 0.8226\n"
          ]
        },
        {
          "output_type": "stream",
          "name": "stderr",
          "text": [
            "Evaluating Subset: 100%|██████████| 1/1 [00:00<00:00, 13.74it/s]\n"
          ]
        },
        {
          "output_type": "stream",
          "name": "stdout",
          "text": [
            "Rare Words - Accuracy: 0.8600\n"
          ]
        }
      ]
    },
    {
      "cell_type": "code",
      "source": [],
      "metadata": {
        "id": "vsmVzoSnHzT7"
      },
      "execution_count": null,
      "outputs": []
    }
  ]
}
